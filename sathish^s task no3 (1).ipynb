{
 "cells": [
  {
   "cell_type": "code",
   "execution_count": 11,
   "id": "558e43ea-3be8-4320-b8de-f799feedb0a8",
   "metadata": {},
   "outputs": [],
   "source": [
    "import re\n",
    "\n",
    "def password_strength_checker(password):\n",
    "    # Define criteria using regular expressions\n",
    "    length_criteria = len(password) >= 8\n",
    "    upper_criteria = re.search(r'[A-Z]', password)\n",
    "    lower_criteria = re.search(r'[a-z]', password)\n",
    "    number_criteria = re.search(r'[0-9]', password)\n",
    "    special_criteria = re.search(r'[!@#$%^&*(),.?\":{}|<>]', password)\n",
    "\n",
    "    # Count how many criteria are met\n",
    "    criteria_met = sum([length_criteria, bool(upper_criteria), bool(lower_criteria), bool(number_criteria), bool(special_criteria)])\n",
    "\n",
    "    # Determine strength\n",
    "    if len(password) >= 12 and criteria_met == 5:\n",
    "        strength = \"Strong\"\n",
    "    elif len(password) >= 8 and criteria_met >= 3:\n",
    "        strength = \"Moderate\"\n",
    "    else:\n",
    "        strength = \"Weak\"\n",
    "\n",
    "    # Provide feedback\n",
    "    feedback = []\n",
    "    if not length_criteria:\n",
    "        feedback.append(\"Password should be at least 8 characters long.\")\n",
    "    if not upper_criteria:\n",
    "        feedback.append(\"Password should include at least one uppercase letter.\")\n",
    "    if not lower_criteria:\n",
    "        feedback.append(\"Password should include at least one lowercase letter.\")\n",
    "    if not number_criteria:\n",
    "        feedback.append(\"Password should include at least one number.\")\n",
    "    if not special_criteria:\n",
    "        feedback.append(\"Password should include at least one special character.\")\n",
    "\n",
    "    return strength, feedback\n",
    "\n"
   ]
  },
  {
   "cell_type": "code",
   "execution_count": 12,
   "id": "1d74e3fa-a8a5-458c-9136-4ba6f7aab907",
   "metadata": {},
   "outputs": [
    {
     "name": "stdout",
     "output_type": "stream",
     "text": [
      "Password Strength: Moderate\n",
      "- Password should include at least one uppercase letter.\n"
     ]
    }
   ],
   "source": [
    "# Example usage\n",
    "password = \"sathish@003\"\n",
    "strength, feedback = password_strength_checker(password)\n",
    "print(f\"Password Strength: {strength}\")\n",
    "for suggestion in feedback:\n",
    "    print(f\"- {suggestion}\")\n"
   ]
  },
  {
   "cell_type": "code",
   "execution_count": null,
   "id": "f743669e-4bae-4f51-bdb9-f11e78e0bdf0",
   "metadata": {},
   "outputs": [],
   "source": []
  }
 ],
 "metadata": {
  "kernelspec": {
   "display_name": "Python 3 (ipykernel)",
   "language": "python",
   "name": "python3"
  },
  "language_info": {
   "codemirror_mode": {
    "name": "ipython",
    "version": 3
   },
   "file_extension": ".py",
   "mimetype": "text/x-python",
   "name": "python",
   "nbconvert_exporter": "python",
   "pygments_lexer": "ipython3",
   "version": "3.11.7"
  }
 },
 "nbformat": 4,
 "nbformat_minor": 5
}
